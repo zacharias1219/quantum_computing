{
 "cells": [
  {
   "cell_type": "code",
   "execution_count": null,
   "metadata": {},
   "outputs": [],
   "source": [
    "import qiskit as q\n",
    "%matplotlib inline\n",
    "\n",
    "circuit = q.QuantumCircuit(2, 2) # 2 qubits, 2 classical bits\n",
    "\n",
    "# currently: 0, 0\n",
    "circuit.x(0) # NOT gate on qubit 0\n",
    "# now: 1, 0\n",
    "circuit.cx(0, 1) # CNOT gate on qubit 0, controlled by qubit 1\n",
    "# now: 1, 1\n",
    "print(\"Before measurement: \", circuit.measure([0, 1], [0, 1]))\n",
    "circuit.draw(output='mpl')"
   ]
  }
 ],
 "metadata": {
  "kernelspec": {
   "display_name": "base",
   "language": "python",
   "name": "python3"
  },
  "language_info": {
   "name": "python",
   "version": "3.10.13"
  }
 },
 "nbformat": 4,
 "nbformat_minor": 2
}
